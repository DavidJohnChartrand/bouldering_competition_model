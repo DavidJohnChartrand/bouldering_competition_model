{
 "cells": [
  {
   "cell_type": "code",
   "execution_count": 1,
   "id": "53e9bf76",
   "metadata": {},
   "outputs": [],
   "source": [
    "from splinter import Browser\n",
    "from bs4 import BeautifulSoup as soup\n",
    "from pprint import pprint\n",
    "from time import sleep\n",
    "import pandas as pd"
   ]
  },
  {
   "cell_type": "code",
   "execution_count": 2,
   "id": "caeb0a7e",
   "metadata": {},
   "outputs": [],
   "source": [
    "def personal_info(link):\n",
    "    browser.visit(link)\n",
    "    per_info_soupy = soup(browser.html, \"html.parser\")\n",
    "    athlete = per_info_soupy.find_all(\"div\", class_=\"athlete\")\n",
    "    country = athlete[0].find(\"div\", class_=\"country\").find(\"span\").text\n",
    "    name = athlete[0].find(\"h1\", class_=\"name\").text\n",
    "    age = athlete[0].find(\"span\", class_=\"age\").text\n",
    "    hometown = athlete[0].find(\"span\", class_=\"hometown\").text\n",
    "    info = per_info_soupy.find(\"div\", class_=\"personal-info\")\n",
    "    athlete_info = info.find(\"div\",class_=\"text\")\n",
    "    catergories = []\n",
    "    data = []\n",
    "    Athlete_infos = []\n",
    "    try:   \n",
    "        for i in athlete_info:\n",
    "            if i[\"class\"][0]==\"subtitle\":\n",
    "                catergories.append(i.text)\n",
    "            else:\n",
    "                data.append(i.text)\n",
    "\n",
    "        athlete_infos = {catergories[i]: data[i] for i in range(len(catergories))}\n",
    "        Athlete_infos.append(athlete_infos)\n",
    "        \n",
    "    except:\n",
    "        print(\"NO PERSONAL INFORMATION\")\n",
    "    INFO =[country,name,age, Athlete_infos]\n",
    "    return INFO\n",
    "    "
   ]
  },
  {
   "cell_type": "code",
   "execution_count": null,
   "id": "b96f6db3",
   "metadata": {},
   "outputs": [],
   "source": [
    "def climbers_stats(link):\n",
    "    browser.visit(link)\n",
    "    soupy = soup(browser.html, \"html.parser\")\n",
    "    iframe = soupy.find('iframe')\n",
    "    iframe_url = iframe['data-src']\n",
    "    iframe_url\n",
    "    browser.visit(iframe_url)\n",
    "    return"
   ]
  },
  {
   "cell_type": "code",
   "execution_count": null,
   "id": "0ae2e4b5",
   "metadata": {},
   "outputs": [],
   "source": [
    "def loop_table():\n",
    "    iframesoup = soup(browser.html, \"html.parser\")\n",
    "    table = iframesoup.find('table')\n",
    "    climbers =[]\n",
    "    for row in table.find_all('tr'):\n",
    "        try:\n",
    "            link = row.find_all('td')[1].find(\"a\")[\"href\"]\n",
    "            climber = personal_info(link)\n",
    "            climbers.append(climber)\n",
    "\n",
    "        except:\n",
    "            continue\n",
    "    return climbers"
   ]
  },
  {
   "cell_type": "code",
   "execution_count": 5,
   "id": "38c4c425",
   "metadata": {},
   "outputs": [],
   "source": [
    "browser = Browser('chrome')"
   ]
  },
  {
   "cell_type": "code",
   "execution_count": 21,
   "id": "67bad286",
   "metadata": {
    "collapsed": true
   },
   "outputs": [
    {
     "name": "stdout",
     "output_type": "stream",
     "text": [
      "-------------------------------------\n",
      "-------------------------------------\n",
      "-------------------------------------\n",
      "-------------------------------------\n",
      "-------------------------------------\n",
      "-------------------------------------\n",
      "-------------------------------------\n",
      "-------------------------------------\n",
      "-------------------------------------\n",
      "-------------------------------------\n",
      "-------------------------------------\n",
      "-------------------------------------\n",
      "-------------------------------------\n",
      "-------------------------------------\n",
      "-------------------------------------\n",
      "-------------------------------------\n",
      "-------------------------------------\n",
      "-------------------------------------\n",
      "-------------------------------------\n",
      "-------------------------------------\n",
      "-------------------------------------\n",
      "-------------------------------------\n",
      "-------------------------------------\n",
      "-------------------------------------\n",
      "-------------------------------------\n",
      "-------------------------------------\n",
      "-------------------------------------\n",
      "-------------------------------------\n",
      "-------------------------------------\n",
      "-------------------------------------\n",
      "-------------------------------------\n",
      "-------------------------------------\n",
      "-------------------------------------\n",
      "-------------------------------------\n",
      "-------------------------------------\n",
      "-------------------------------------\n",
      "-------------------------------------\n",
      "-------------------------------------\n",
      "-------------------------------------\n",
      "-------------------------------------\n",
      "-------------------------------------\n",
      "-------------------------------------\n",
      "-------------------------------------\n",
      "-------------------------------------\n",
      "-------------------------------------\n",
      "-------------------------------------\n",
      "-------------------------------------\n",
      "-------------------------------------\n",
      "-------------------------------------\n",
      "-------------------------------------\n",
      "-------------------------------------\n",
      "-------------------------------------\n",
      "-------------------------------------\n",
      "-------------------------------------\n",
      "-------------------------------------\n",
      "-------------------------------------\n",
      "-------------------------------------\n",
      "-------------------------------------\n",
      "-------------------------------------\n",
      "-------------------------------------\n",
      "-------------------------------------\n",
      "-------------------------------------\n",
      "-------------------------------------\n",
      "-------------------------------------\n",
      "-------------------------------------\n",
      "-------------------------------------\n",
      "-------------------------------------\n",
      "-------------------------------------\n",
      "-------------------------------------\n",
      "-------------------------------------\n",
      "-------------------------------------\n",
      "-------------------------------------\n",
      "-------------------------------------\n",
      "-------------------------------------\n",
      "-------------------------------------\n",
      "-------------------------------------\n",
      "-------------------------------------\n",
      "-------------------------------------\n",
      "-------------------------------------\n",
      "-------------------------------------\n"
     ]
    }
   ],
   "source": [
    "url = 'https://www.ifsc-climbing.org/index.php/world-competition/calendar?task=ranking-complete&category=3'\n",
    "climbers_stats(url)\n",
    "sleep(1)\n",
    "MEN = loop_table()"
   ]
  }
 ],
 "metadata": {
  "kernelspec": {
   "display_name": "Python 3 (ipykernel)",
   "language": "python",
   "name": "python3"
  },
  "language_info": {
   "codemirror_mode": {
    "name": "ipython",
    "version": 3
   },
   "file_extension": ".py",
   "mimetype": "text/x-python",
   "name": "python",
   "nbconvert_exporter": "python",
   "pygments_lexer": "ipython3",
   "version": "3.7.15"
  }
 },
 "nbformat": 4,
 "nbformat_minor": 5
}
